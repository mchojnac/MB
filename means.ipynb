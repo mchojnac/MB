{
 "cells": [
  {
   "cell_type": "code",
   "execution_count": 1,
   "metadata": {
    "collapsed": true
   },
   "outputs": [],
   "source": [
    "import pandas as pd\n",
    "import numpy as np\n",
    "import matplotlib.pyplot as plt\n",
    "import matplotlib\n",
    "%matplotlib inline\n",
    "from functions import *\n",
    "from tqdm import tqdm\n",
    "import math"
   ]
  },
  {
   "cell_type": "code",
   "execution_count": 2,
   "metadata": {
    "collapsed": true
   },
   "outputs": [],
   "source": [
    "df_train_based,df_test_based,catcol=LoadandCleanData(True,0,0.0)"
   ]
  },
  {
   "cell_type": "code",
   "execution_count": 3,
   "metadata": {},
   "outputs": [
    {
     "name": "stdout",
     "output_type": "stream",
     "text": [
      "X10\n",
      "X12\n",
      "X13\n",
      "X14\n",
      "X15\n",
      "X16\n",
      "X17\n",
      "X18\n",
      "X19\n",
      "X20\n",
      "X21\n",
      "X22\n",
      "X23\n",
      "X24\n",
      "X26\n",
      "X27\n",
      "X28\n",
      "X29\n",
      "X30\n",
      "X31\n",
      "X32\n",
      "X33\n",
      "X34\n",
      "X36\n",
      "X38\n",
      "X40\n",
      "X41\n",
      "X42\n",
      "X43\n",
      "X44\n",
      "X45\n",
      "X46\n",
      "X47\n",
      "X48\n",
      "X49\n",
      "X50\n",
      "X51\n",
      "X52\n",
      "X53\n",
      "X54\n",
      "X55\n",
      "X56\n",
      "X57\n",
      "X58\n",
      "X59\n",
      "X60\n",
      "X61\n",
      "X62\n",
      "X63\n",
      "X64\n",
      "X65\n",
      "X66\n",
      "X67\n",
      "X68\n",
      "X69\n",
      "X70\n",
      "X71\n",
      "X73\n",
      "X74\n",
      "X75\n",
      "X77\n",
      "X78\n",
      "X79\n",
      "X80\n",
      "X81\n",
      "X82\n",
      "X83\n",
      "X85\n",
      "X86\n",
      "X87\n",
      "X88\n",
      "X89\n",
      "X90\n",
      "X91\n",
      "X92\n",
      "X95\n",
      "X96\n",
      "X97\n",
      "X98\n",
      "X99\n",
      "X100\n",
      "X101\n",
      "X103\n",
      "X104\n",
      "X105\n",
      "X106\n",
      "X108\n",
      "X109\n",
      "X110\n",
      "X111\n",
      "X112\n",
      "X114\n",
      "X115\n",
      "X116\n",
      "X117\n",
      "X118\n",
      "X120\n",
      "X123\n",
      "X124\n",
      "X125\n",
      "X126\n",
      "X127\n",
      "X128\n",
      "X129\n",
      "X130\n",
      "X131\n",
      "X132\n",
      "X133\n",
      "X135\n",
      "X136\n",
      "X137\n",
      "X138\n",
      "X139\n",
      "X140\n",
      "X141\n",
      "X142\n",
      "X143\n",
      "X144\n",
      "X145\n",
      "X148\n",
      "X150\n",
      "X151\n",
      "X152\n",
      "X153\n",
      "X154\n",
      "X155\n",
      "X156\n",
      "X157\n",
      "X158\n",
      "X159\n",
      "X160\n",
      "X161\n",
      "X162\n",
      "X163\n",
      "X164\n",
      "X165\n",
      "X166\n",
      "X167\n",
      "X168\n",
      "X169\n",
      "X170\n",
      "X171\n",
      "X173\n",
      "X174\n",
      "X175\n",
      "X176\n",
      "X177\n",
      "X178\n",
      "X179\n",
      "X180\n",
      "X181\n",
      "X182\n",
      "X183\n",
      "X184\n",
      "X185\n",
      "X186\n",
      "X187\n",
      "X189\n",
      "X190\n",
      "X191\n",
      "X192\n",
      "X194\n",
      "X195\n",
      "X196\n",
      "X197\n",
      "X198\n",
      "X200\n",
      "X201\n",
      "X202\n",
      "X203\n",
      "X204\n",
      "X205\n",
      "X206\n",
      "X207\n",
      "X208\n",
      "X209\n",
      "X210\n",
      "X211\n",
      "X212\n",
      "X215\n",
      "X217\n",
      "X218\n",
      "X219\n",
      "X220\n",
      "X221\n",
      "X223\n",
      "X224\n",
      "X225\n",
      "X228\n",
      "X229\n",
      "X230\n",
      "X231\n",
      "X234\n",
      "X236\n",
      "X237\n",
      "X238\n",
      "X240\n",
      "X241\n",
      "X246\n",
      "X249\n",
      "X250\n",
      "X251\n",
      "X252\n",
      "X255\n",
      "X256\n",
      "X257\n",
      "X258\n",
      "X259\n",
      "X260\n",
      "X261\n",
      "X263\n",
      "X264\n",
      "X265\n",
      "X267\n",
      "X269\n",
      "X270\n",
      "X271\n",
      "X272\n",
      "X273\n",
      "X274\n",
      "X275\n",
      "X276\n",
      "X277\n",
      "X278\n",
      "X280\n",
      "X281\n",
      "X282\n",
      "X283\n",
      "X284\n",
      "X285\n",
      "X286\n",
      "X287\n",
      "X288\n",
      "X291\n",
      "X292\n",
      "X294\n",
      "X295\n",
      "X298\n",
      "X300\n",
      "X301\n",
      "X304\n",
      "X305\n",
      "X306\n",
      "X307\n",
      "X308\n",
      "X309\n",
      "X310\n",
      "X311\n",
      "X312\n",
      "X313\n",
      "X314\n",
      "X315\n",
      "X316\n",
      "X317\n",
      "X318\n",
      "X319\n",
      "X321\n",
      "X322\n",
      "X323\n",
      "X325\n",
      "X327\n",
      "X328\n",
      "X329\n",
      "X331\n",
      "X332\n",
      "X333\n",
      "X334\n",
      "X335\n",
      "X336\n",
      "X337\n",
      "X338\n",
      "X339\n",
      "X340\n",
      "X341\n",
      "X342\n",
      "X343\n",
      "X344\n",
      "X345\n",
      "X346\n",
      "X348\n",
      "X349\n",
      "X350\n",
      "X351\n",
      "X352\n",
      "X353\n",
      "X354\n",
      "X355\n",
      "X356\n",
      "X357\n",
      "X358\n",
      "X359\n",
      "X361\n",
      "X362\n",
      "X363\n",
      "X366\n",
      "X367\n",
      "X368\n",
      "X369\n",
      "X370\n",
      "X371\n",
      "X372\n",
      "X373\n",
      "X374\n",
      "X375\n",
      "X376\n",
      "X377\n",
      "X378\n",
      "X379\n",
      "X380\n",
      "X383\n",
      "X384\n",
      "X0_29\n",
      "X0_1\n",
      "X0_17\n",
      "X0_44\n",
      "X0_14\n",
      "X0_41\n",
      "X0_9\n",
      "X0_38\n",
      "X0_25\n",
      "X0_4\n",
      "X0_52\n",
      "X0_3\n",
      "X0_18\n",
      "X0_22\n",
      "X0_46\n",
      "X0_11\n",
      "X0_6\n",
      "X0_8\n",
      "X0_40\n",
      "X0_42\n",
      "X0_30\n",
      "X0_0\n",
      "X0_36\n",
      "X0_35\n",
      "X0_31\n",
      "X0_50\n",
      "X0_37\n",
      "X0_26\n",
      "X0_49\n",
      "X0_39\n",
      "X0_12\n",
      "X0_48\n",
      "X0_51\n",
      "X0_15\n",
      "X0_21\n",
      "X0_5\n",
      "X0_2\n",
      "X0_45\n",
      "X0_20\n",
      "X0_24\n",
      "X0_34\n",
      "X0_23\n",
      "X0_16\n",
      "X0_32\n",
      "X0_33\n",
      "X0_7\n",
      "X1_1\n",
      "X1_7\n",
      "X1_9\n",
      "X1_12\n",
      "X1_10\n",
      "X1_17\n",
      "X1_13\n",
      "X1_6\n",
      "X1_3\n",
      "X1_18\n",
      "X1_16\n",
      "X1_25\n",
      "X1_4\n",
      "X1_26\n",
      "X1_21\n",
      "X1_20\n",
      "X1_2\n",
      "X1_8\n",
      "X1_5\n",
      "X1_14\n",
      "X1_22\n",
      "X1_23\n",
      "X1_24\n",
      "X1_15\n",
      "X1_0\n",
      "X1_11\n",
      "X1_19\n",
      "X2_20\n",
      "X2_41\n",
      "X2_4\n",
      "X2_48\n",
      "X2_14\n",
      "X2_42\n",
      "X2_3\n",
      "X2_22\n",
      "X2_8\n",
      "X2_37\n",
      "X2_45\n",
      "X2_49\n",
      "X2_19\n",
      "X2_5\n",
      "X2_6\n",
      "X2_38\n",
      "X2_13\n",
      "X2_16\n",
      "X2_0\n",
      "X3_5\n",
      "X3_3\n",
      "X3_6\n",
      "X3_0\n",
      "X3_2\n",
      "X3_4\n",
      "X3_1\n",
      "X4_3\n",
      "X4_0\n",
      "X4_1\n",
      "X4_2\n",
      "X5_1\n",
      "X5_20\n",
      "X5_15\n",
      "X5_32\n",
      "X5_28\n",
      "X5_17\n",
      "X5_5\n",
      "X5_14\n",
      "X5_22\n",
      "X5_30\n",
      "X5_31\n",
      "X5_7\n",
      "X5_23\n",
      "X5_27\n",
      "X5_25\n",
      "X5_26\n",
      "X5_6\n",
      "X5_4\n",
      "X5_12\n",
      "X5_0\n",
      "X5_3\n",
      "X5_11\n",
      "X5_18\n",
      "X5_24\n",
      "X5_10\n",
      "X5_16\n",
      "X5_29\n",
      "X5_13\n",
      "X6_0\n",
      "X6_3\n",
      "X6_5\n",
      "X6_2\n",
      "X6_9\n",
      "X6_10\n",
      "X6_6\n",
      "X6_7\n",
      "X6_4\n",
      "X6_11\n",
      "X6_1\n",
      "X6_8\n",
      "X8_0\n",
      "X8_9\n",
      "X8_10\n",
      "X8_1\n",
      "X8_14\n",
      "X8_8\n",
      "X8_4\n",
      "X8_13\n",
      "X8_12\n",
      "X8_6\n",
      "X8_16\n",
      "X8_21\n",
      "X8_5\n",
      "X8_24\n",
      "X8_11\n",
      "X8_3\n",
      "X8_18\n",
      "X8_7\n",
      "X8_23\n",
      "X8_19\n",
      "X8_22\n",
      "X8_15\n",
      "X8_20\n",
      "X8_17\n",
      "X8_2\n"
     ]
    }
   ],
   "source": [
    "par=dict()\n",
    "for i in df_train_based.drop(['ID','y'],axis=1).columns:\n",
    "    print(i)\n",
    "    y=df_train_based.groupby(i).mean()['y']\n",
    "    counts=df_train_based.groupby(i).count()['y']\n",
    "    std=df_train_based.groupby(i).std()['y']\n",
    "    if len(y)==1:\n",
    "        continue\n",
    "    if counts[0]==1:\n",
    "        std[0]=1000\n",
    "    if counts[1]==1:\n",
    "        std[1]=1000   \n",
    "    #print(i,0,y[0],counts[0],std[0])\n",
    "    #print(i,1,y[1],counts[1],std[1])\n",
    "    par[i]=[y[0],y[1],counts[0],counts[1],std[0],std[1]]"
   ]
  },
  {
   "cell_type": "code",
   "execution_count": 4,
   "metadata": {},
   "outputs": [
    {
     "name": "stderr",
     "output_type": "stream",
     "text": [
      "100%|██████████| 4209/4209 [00:49<00:00, 85.66it/s] \n"
     ]
    }
   ],
   "source": [
    "ly1t=list()\n",
    "ly2t=list()\n",
    "ly3t=list()\n",
    "ly4t=list()\n",
    "for i in tqdm(range(len(df_train_based))):\n",
    "    column=df_train_based.iloc[i]\n",
    "    n=0\n",
    "    ymean=0\n",
    "    ycount=0\n",
    "    y_over_std=0\n",
    "    y_over_std2=0\n",
    "    sum_count=0\n",
    "    sum_std=0\n",
    "    sum_std2=0          \n",
    "    for j in df_train_based.drop(['ID'],axis=1).columns:      \n",
    "        if j in par.keys():\n",
    "           # print(j)\n",
    "            value=int(column[j])\n",
    "            mean=par[j][value]\n",
    "            counts=par[j][value+2]\n",
    "            std=par[j][value+4] \n",
    "            n=n+1\n",
    "            ymean=ymean+mean\n",
    "            ycount=ycount+mean*counts\n",
    "            y_over_std=y_over_std+mean/std\n",
    "            y_over_std2=y_over_std2+(mean*mean)/(std*std)  \n",
    "            sum_count=sum_count+counts\n",
    "            sum_std=sum_std+1.0/(std)\n",
    "            sum_std2= sum_std2+1.0/(std*std)\n",
    "    y_1=ymean/n\n",
    "    y_2=ycount/sum_count\n",
    "    y_3=y_over_std/sum_std\n",
    "    y_4=math.sqrt(y_over_std2/sum_std2)\n",
    "    ly1t.append(y_1)\n",
    "    ly2t.append(y_2)\n",
    "    ly3t.append(y_3)\n",
    "    ly4t.append(y_4)        "
   ]
  },
  {
   "cell_type": "code",
   "execution_count": 15,
   "metadata": {},
   "outputs": [
    {
     "data": {
      "text/plain": [
       "[<matplotlib.lines.Line2D at 0x7f542b276e48>]"
      ]
     },
     "execution_count": 15,
     "metadata": {},
     "output_type": "execute_result"
    },
    {
     "data": {
      "image/png": "[encoded data removed]",
      "text/plain": [
       "<matplotlib.figure.Figure at 0x7f542b2bb2b0>"
      ]
     },
     "metadata": {},
     "output_type": "display_data"
    }
   ],
   "source": [
    "plt.plot(ly1t,df_train_based['y'].values,\"go\")\n",
    "#plt.axis([100.8,101.3,65, 120])\n",
    "#100.3 #101"
   ]
  },
  {
   "cell_type": "code",
   "execution_count": 6,
   "metadata": {},
   "outputs": [
    {
     "data": {
      "text/plain": [
       "[<matplotlib.lines.Line2D at 0x7f542b5d0080>]"
      ]
     },
     "execution_count": 6,
     "metadata": {},
     "output_type": "execute_result"
    },
    {
     "data": {
      "image/png": "[encoded data removed]",
      "text/plain": [
       "<matplotlib.figure.Figure at 0x7f542b64a780>"
      ]
     },
     "metadata": {},
     "output_type": "display_data"
    }
   ],
   "source": [
    "plt.plot(ly1t,ly2t,\"go\")"
   ]
  },
  {
   "cell_type": "code",
   "execution_count": 7,
   "metadata": {},
   "outputs": [
    {
     "data": {
      "text/plain": [
       "[<matplotlib.lines.Line2D at 0x7f542b5c0748>]"
      ]
     },
     "execution_count": 7,
     "metadata": {},
     "output_type": "execute_result"
    },
    {
     "data": {
      "image/png": "[encoded data removed]",
      "text/plain": [
       "<matplotlib.figure.Figure at 0x7f542b5dae80>"
      ]
     },
     "metadata": {},
     "output_type": "display_data"
    }
   ],
   "source": [
    "plt.plot(ly1t,ly3t,\"go\")"
   ]
  },
  {
   "cell_type": "code",
   "execution_count": 8,
   "metadata": {},
   "outputs": [
    {
     "data": {
      "text/plain": [
       "[<matplotlib.lines.Line2D at 0x7f542b52a828>]"
      ]
     },
     "execution_count": 8,
     "metadata": {},
     "output_type": "execute_result"
    },
    {
     "data": {
      "image/png": "[encoded data removed]",
      "text/plain": [
       "<matplotlib.figure.Figure at 0x7f542b551f60>"
      ]
     },
     "metadata": {},
     "output_type": "display_data"
    }
   ],
   "source": [
    "plt.plot(ly1t,ly4t,\"go\")"
   ]
  },
  {
   "cell_type": "code",
   "execution_count": 9,
   "metadata": {},
   "outputs": [
    {
     "name": "stderr",
     "output_type": "stream",
     "text": [
      "100%|██████████| 4209/4209 [01:11<00:00, 59.22it/s]\n"
     ]
    }
   ],
   "source": [
    "ly1=list()\n",
    "ly2=list()\n",
    "ly3=list()\n",
    "ly4=list()\n",
    "for i in tqdm(range(len(df_test_based))):\n",
    "    column=df_test_based.iloc[i]\n",
    "    n=0\n",
    "    ymean=0\n",
    "    ycount=0\n",
    "    y_over_std=0\n",
    "    y_over_std2=0\n",
    "    sum_count=0\n",
    "    sum_std=0\n",
    "    sum_std2=0          \n",
    "    for j in df_test_based.drop(['ID'],axis=1).columns:      \n",
    "        if j in par.keys():\n",
    "           # print(j)\n",
    "            value=int(column[j])\n",
    "            mean=par[j][value]\n",
    "            counts=par[j][value+2]\n",
    "            std=par[j][value+4] \n",
    "            n=n+1\n",
    "            ymean=ymean+mean\n",
    "            ycount=ycount+mean*counts\n",
    "            y_over_std=y_over_std+mean/std\n",
    "            y_over_std2=y_over_std2+(mean*mean)/(std*std)  \n",
    "            sum_count=sum_count+counts\n",
    "            sum_std=sum_std+1.0/(std)\n",
    "            sum_std2= sum_std2+1.0/(std*std)\n",
    "    y_1=ymean/n\n",
    "    y_2=ycount/sum_count\n",
    "    y_3=y_over_std/sum_std\n",
    "    y_4=math.sqrt(y_over_std2/sum_std2)\n",
    "    ly1.append(y_1)\n",
    "    ly2.append(y_2)\n",
    "    ly3.append(y_3)\n",
    "    ly4.append(y_4)        "
   ]
  },
  {
   "cell_type": "code",
   "execution_count": 10,
   "metadata": {},
   "outputs": [
    {
     "data": {
      "text/plain": [
       "[<matplotlib.lines.Line2D at 0x7f542b47d588>]"
      ]
     },
     "execution_count": 10,
     "metadata": {},
     "output_type": "execute_result"
    },
    {
     "data": {
      "image/png": "[encoded data removed]",
      "text/plain": [
       "<matplotlib.figure.Figure at 0x7f542b585160>"
      ]
     },
     "metadata": {},
     "output_type": "display_data"
    }
   ],
   "source": [
    "plt.plot(ly1,ly2,\"go\")"
   ]
  },
  {
   "cell_type": "code",
   "execution_count": 11,
   "metadata": {},
   "outputs": [
    {
     "data": {
      "text/plain": [
       "[<matplotlib.lines.Line2D at 0x7f542b3e9080>]"
      ]
     },
     "execution_count": 11,
     "metadata": {},
     "output_type": "execute_result"
    },
    {
     "data": {
      "image/png": "[encoded data removed]",
      "text/plain": [
       "<matplotlib.figure.Figure at 0x7f542b40e5f8>"
      ]
     },
     "metadata": {},
     "output_type": "display_data"
    }
   ],
   "source": [
    "plt.plot(ly1,ly3,\"go\")"
   ]
  },
  {
   "cell_type": "code",
   "execution_count": 12,
   "metadata": {},
   "outputs": [
    {
     "data": {
      "text/plain": [
       "[<matplotlib.lines.Line2D at 0x7f542b3531d0>]"
      ]
     },
     "execution_count": 12,
     "metadata": {},
     "output_type": "execute_result"
    },
    {
     "data": {
      "image/png": "[encoded data removed]",
      "text/plain": [
       "<matplotlib.figure.Figure at 0x7f542b3f94a8>"
      ]
     },
     "metadata": {},
     "output_type": "display_data"
    }
   ],
   "source": [
    "plt.plot(ly1,ly4,\"go\")"
   ]
  },
  {
   "cell_type": "code",
   "execution_count": 13,
   "metadata": {},
   "outputs": [
    {
     "data": {
      "text/plain": [
       "(array([  0.00000000e+00,   0.00000000e+00,   0.00000000e+00,\n",
       "          0.00000000e+00,   0.00000000e+00,   1.42551675e-04,\n",
       "          0.00000000e+00,   0.00000000e+00,   2.37586125e-04,\n",
       "          7.60275600e-03,   1.91779520e-01,   2.37586125e-04,\n",
       "          0.00000000e+00,   0.00000000e+00,   0.00000000e+00,\n",
       "          0.00000000e+00,   0.00000000e+00,   0.00000000e+00,\n",
       "          0.00000000e+00,   0.00000000e+00,   0.00000000e+00,\n",
       "          0.00000000e+00,   0.00000000e+00,   0.00000000e+00,\n",
       "          0.00000000e+00,   0.00000000e+00,   0.00000000e+00,\n",
       "          0.00000000e+00,   0.00000000e+00,   0.00000000e+00,\n",
       "          0.00000000e+00,   0.00000000e+00,   0.00000000e+00,\n",
       "          0.00000000e+00,   0.00000000e+00,   0.00000000e+00,\n",
       "          0.00000000e+00,   0.00000000e+00,   0.00000000e+00]),\n",
       " array([ 50,  55,  60,  65,  70,  75,  80,  85,  90,  95, 100, 105, 110,\n",
       "        115, 120, 125, 130, 135, 140, 145, 150, 155, 160, 165, 170, 175,\n",
       "        180, 185, 190, 195, 200, 205, 210, 215, 220, 225, 230, 235, 240, 245]),\n",
       " <a list of 1 Patch objects>)"
      ]
     },
     "execution_count": 13,
     "metadata": {},
     "output_type": "execute_result"
    },
    {
     "data": {
      "image/png": "[encoded data removed]",
      "text/plain": [
       "<matplotlib.figure.Figure at 0x7f542b3e9a58>"
      ]
     },
     "metadata": {},
     "output_type": "display_data"
    }
   ],
   "source": [
    "plt.hist(df_train_based['y'].values,bins=np.mgrid[75:175:5],color=\"red\",histtype=\"step\",normed=True)\n",
    "plt.hist(ly1,bins=np.mgrid[50:250:5],color=\"blue\",histtype=\"step\",normed=True)\n",
    "plt.hist(ly2,bins=np.mgrid[50:250:5],color=\"green\",histtype=\"step\",normed=True)\n",
    "plt.hist(ly3,bins=np.mgrid[50:250:5],color=\"black\",histtype=\"step\",normed=True)\n",
    "plt.hist(ly4,bins=np.mgrid[50:250:5],color=\"orange\",histtype=\"step\",normed=True)"
   ]
  },
  {
   "cell_type": "code",
   "execution_count": 21,
   "metadata": {},
   "outputs": [],
   "source": [
    "df_train_based=pd.concat([df_train_based,pd.DataFrame({\"mean\":ly1t})],axis=1)"
   ]
  },
  {
   "cell_type": "code",
   "execution_count": 23,
   "metadata": {},
   "outputs": [],
   "source": [
    "df_test_based=pd.concat([df_test_based,pd.DataFrame({\"mean\":ly1})],axis=1)"
   ]
  },
  {
   "cell_type": "code",
   "execution_count": 25,
   "metadata": {
    "collapsed": true
   },
   "outputs": [],
   "source": [
    "def Cluster(x):\n",
    "    if x<100.3:\n",
    "        return 0\n",
    "    if x<101.0:\n",
    "        return 1\n",
    "    return 2"
   ]
  },
  {
   "cell_type": "code",
   "execution_count": 26,
   "metadata": {},
   "outputs": [],
   "source": [
    "df_test_based['label']=df_test_based['mean'].apply(lambda x: Cluster(x))"
   ]
  },
  {
   "cell_type": "code",
   "execution_count": 27,
   "metadata": {
    "collapsed": true
   },
   "outputs": [],
   "source": [
    "df_train_based['label']=df_train_based['mean'].apply(lambda x: Cluster(x))"
   ]
  },
  {
   "cell_type": "code",
   "execution_count": 38,
   "metadata": {},
   "outputs": [
    {
     "name": "stdout",
     "output_type": "stream",
     "text": [
      "72.11 104.65\n",
      "82.62 265.32\n",
      "101.86 149.63\n"
     ]
    }
   ],
   "source": [
    "for i in range(3):\n",
    "    print(df_train_based[df_train_based['label']==i]['y'].min(),df_train_based[df_train_based['label']==i]['y'].max())"
   ]
  },
  {
   "cell_type": "code",
   "execution_count": 39,
   "metadata": {},
   "outputs": [
    {
     "data": {
      "text/plain": [
       "(array([ 0.        ,  0.        ,  0.        ,  0.        ,  0.        ,\n",
       "         0.        ,  0.        ,  0.        ,  0.        ,  0.        ,\n",
       "         0.00373832,  0.05420561,  0.0682243 ,  0.0364486 ,  0.02149533,\n",
       "         0.00841121,  0.00186916,  0.00186916,  0.00186916,  0.00186916,\n",
       "         0.        ,  0.        ,  0.        ,  0.        ,  0.        ,\n",
       "         0.        ,  0.        ,  0.        ,  0.        ,  0.        ,\n",
       "         0.        ,  0.        ,  0.        ,  0.        ,  0.        ,\n",
       "         0.        ,  0.        ,  0.        ,  0.        ]),\n",
       " array([ 50,  55,  60,  65,  70,  75,  80,  85,  90,  95, 100, 105, 110,\n",
       "        115, 120, 125, 130, 135, 140, 145, 150, 155, 160, 165, 170, 175,\n",
       "        180, 185, 190, 195, 200, 205, 210, 215, 220, 225, 230, 235, 240, 245]),\n",
       " <a list of 1 Patch objects>)"
      ]
     },
     "execution_count": 39,
     "metadata": {},
     "output_type": "execute_result"
    },
    {
     "data": {
      "image/png": "[encoded data removed]",
      "text/plain": [
       "<matplotlib.figure.Figure at 0x7f542ad2d9e8>"
      ]
     },
     "metadata": {},
     "output_type": "display_data"
    }
   ],
   "source": [
    "plt.hist(df_train_based[df_train_based['label']==0]['y'],bins=np.mgrid[50:250:5],color=\"red\",histtype=\"step\",normed=True)\n",
    "plt.hist(df_train_based[df_train_based['label']==1]['y'],bins=np.mgrid[50:250:5],color=\"blue\",histtype=\"step\",normed=True)\n",
    "plt.hist(df_train_based[df_train_based['label']==2]['y'],bins=np.mgrid[50:250:5],color=\"green\",histtype=\"step\",normed=True)"
   ]
  },
  {
   "cell_type": "code",
   "execution_count": 43,
   "metadata": {},
   "outputs": [],
   "source": [
    "df_train_based[['ID','label']].to_csv(\"trainlabel.csv\",index=False)\n",
    "#df.to_csv('./{}_{}.csv'.format(name,timestamp),index=False)"
   ]
  },
  {
   "cell_type": "code",
   "execution_count": 44,
   "metadata": {
    "collapsed": true
   },
   "outputs": [],
   "source": [
    "df_test_based[['ID','label']].to_csv(\"testlabel.csv\",index=False)"
   ]
  },
  {
   "cell_type": "code",
   "execution_count": null,
   "metadata": {
    "collapsed": true
   },
   "outputs": [],
   "source": []
  }
 ],
 "metadata": {
  "kernelspec": {
   "display_name": "Python 3",
   "language": "python",
   "name": "python3"
  },
  "language_info": {
   "codemirror_mode": {
    "name": "ipython",
    "version": 3
   },
   "file_extension": ".py",
   "mimetype": "text/x-python",
   "name": "python",
   "nbconvert_exporter": "python",
   "pygments_lexer": "ipython3",
   "version": "3.5.2"
  }
 },
 "nbformat": 4,
 "nbformat_minor": 2
}
