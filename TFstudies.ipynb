{
 "cells": [
  {
   "cell_type": "code",
   "execution_count": 1,
   "metadata": {
    "collapsed": true
   },
   "outputs": [],
   "source": [
    "import pandas as pd\n",
    "from collections import Counter\n",
    "import numpy as np\n",
    "import sys\n",
    "import random\n",
    "import functions\n",
    "import matplotlib.pyplot as plt\n",
    "%matplotlib inline\n",
    "import seaborn as sns\n",
    "from functions import *\n",
    "from sklearn.model_selection import train_test_split\n",
    "from pylab import rcParams\n",
    "from sklearn.decomposition import PCA, FastICA\n",
    "from sklearn.metrics import r2_score\n",
    "import tensorflow as tf\n",
    "import os\n",
    "import datetime as dt\n",
    "from tqdm import tnrange, tqdm_notebook, tqdm\n",
    "from sklearn.metrics import r2_score\n"
   ]
  },
  {
   "cell_type": "code",
   "execution_count": 2,
   "metadata": {
    "collapsed": true
   },
   "outputs": [],
   "source": [
    "def InitSettings():\n",
    "    param = dict()\n",
    "\n",
    "    param['n_trees']= 500\n",
    "    param['eta']= 0.005\n",
    "    param['max_depth']= 4\n",
    "    param['subsample']= 0.95\n",
    "    param['objective']= 'reg:linear'\n",
    "    param['eval_metric']= 'rmse'\n",
    "    param['silent']= 1\n",
    "    param['lambda']=1.0\n",
    "    param ['alpha']=0.0 #[default=0]\n",
    "    param['seed'] = 21\n",
    "\n",
    "    others = dict()\n",
    "    others['flagcat']=False\n",
    "    others['flagcentering']=1\n",
    "    others['cut']=0.075\n",
    "    others['RemoveID']=False\n",
    "    others['n_comp']=10\n",
    "    others['scaleID']=0\n",
    "    others['num_boost_rounds'] = 5500\n",
    "    others['testfraction']=0.05\n",
    "    others['removecatfromPCA']=False\n",
    "    others['dumpresidual']=False\n",
    "    others['removeoutliers']=False\n",
    "    others['Ntry']=100\n",
    "    others['randomsample']=True\n",
    "    others['addlabel']=True\n",
    "    allparams=dict()\n",
    "    allparams['xgb']=param\n",
    "    allparams['others']=others\n",
    "    allparams['columns_for_remove']=[]\n",
    "    return allparams"
   ]
  },
  {
   "cell_type": "code",
   "execution_count": 3,
   "metadata": {
    "collapsed": true
   },
   "outputs": [],
   "source": [
    "df_train,df_test,catcol=LoadandCleanData(True,1,0.0,2)\n",
    "                                         "
   ]
  },
  {
   "cell_type": "code",
   "execution_count": 4,
   "metadata": {},
   "outputs": [],
   "source": [
    "columnsPCA=list()\n",
    "for i in df_test.columns:\n",
    "    if i in catcol:\n",
    "        continue\n",
    "    columnsPCA.append(i)"
   ]
  },
  {
   "cell_type": "code",
   "execution_count": 5,
   "metadata": {
    "collapsed": true
   },
   "outputs": [],
   "source": [
    "df_train,df_test=AddLabel(df_train,df_test)"
   ]
  },
  {
   "cell_type": "code",
   "execution_count": 6,
   "metadata": {},
   "outputs": [
    {
     "name": "stderr",
     "output_type": "stream",
     "text": [
      "/usr/local/lib/python3.5/dist-packages/sklearn/decomposition/fastica_.py:116: UserWarning: FastICA did not converge. Consider increasing tolerance or the maximum number of iterations.\n",
      "  warnings.warn('FastICA did not converge. Consider increasing '\n"
     ]
    }
   ],
   "source": [
    "df_train,df_test=DoPCAICA(df_train,df_test,InitSettings(),columnsPCA)"
   ]
  },
  {
   "cell_type": "code",
   "execution_count": 7,
   "metadata": {},
   "outputs": [],
   "source": [
    "touse=list()\n",
    "for i in df_train.columns:\n",
    "    if i.find(\"_\")>-1:\n",
    "        touse.append(i)"
   ]
  },
  {
   "cell_type": "code",
   "execution_count": 8,
   "metadata": {},
   "outputs": [],
   "source": [
    "N=len(touse)"
   ]
  },
  {
   "cell_type": "code",
   "execution_count": 9,
   "metadata": {
    "collapsed": true
   },
   "outputs": [],
   "source": [
    "tf.reset_default_graph()\n",
    "sess = tf.Session()"
   ]
  },
  {
   "cell_type": "code",
   "execution_count": 10,
   "metadata": {},
   "outputs": [],
   "source": [
    "\n",
    "\n",
    "X = tf.placeholder(tf.float32, name=\"X\")\n",
    "Y = tf.placeholder(tf.float32, name=\"Y\")\n",
    "Xtest = tf.placeholder(tf.float32, name=\"Xtest\")\n",
    "Ytest = tf.placeholder(tf.float32, name=\"Ytest\")\n",
    "\n",
    "w1 = tf.Variable(tf.truncated_normal([504,30], stddev=0.00001), name=\"weights1\")\n",
    "b1=tf.Variable(tf.constant(0.0,shape=[30]), name=\"bias1\")\n",
    "\n",
    "w2 = tf.Variable(tf.truncated_normal([30,1], stddev=0.00001), name=\"weights2\")\n",
    "b2=tf.Variable(tf.constant(0.0,shape=[1]), name=\"bias2\")\n",
    "\n",
    "w3 = tf.Variable(tf.truncated_normal([30,1], stddev=0.00001), name=\"weights3\")\n",
    "\n",
    "#w4=tf.Variable(tf.truncated_normal([30,1], stddev=0.00001), name=\"weights4\")\n",
    "Y1= tf.nn.relu(tf.matmul(X,w1)+b1)\n",
    "Y_predicted=tf.matmul(tf.square(Y1),w3)+tf.matmul(Y1,w2)+b2\n",
    "\n",
    "step=tf.square(Y - Y_predicted,name=\"step\")\n",
    "chi2= tf.reduce_mean(step, name=\"loss\")\n",
    "\n",
    "\n",
    "global_step = tf.placeholder(tf.float32,name=\"Nstep\")\n",
    "starter_learning_rate = 0.05\n",
    "learning_rate = starter_learning_rate*tf.exp(-1.0*global_step/500.0) \n",
    "optimizer=tf.train.AdamOptimizer(learning_rate=learning_rate).minimize(chi2)\n",
    "\n",
    "\n",
    "tf.summary.histogram(\"weights1\", w1)\n",
    "tf.summary.histogram(\"biases1\", b1)\n",
    "tf.summary.histogram(\"weights2\", w2)\n",
    "tf.summary.histogram(\"biases2\", b2)\n",
    "tf.summary.histogram(\"weights3\", w3)\n",
    "#tf.summary.histogram(\"weights4\", w4)\n",
    "\n",
    "tf.summary.histogram(\"Y\", Y_predicted)\n",
    "tf.summary.scalar(\"chi2\", chi2)\n",
    "tf.summary.scalar(\"rate\", learning_rate)\n",
    "\n",
    "\n",
    "Y1test= tf.nn.relu(tf.matmul(Xtest,w1)+b1)\n",
    "Y_predictedtest=tf.matmul(tf.square(Y1test),w3)+tf.matmul(Y1test,w2)+b2\n",
    "\n",
    "\n",
    "step=tf.square(Ytest - Y_predictedtest,name=\"steptest\")\n",
    "chi2test= tf.reduce_mean(step, name=\"losstest\")\n",
    "tf.summary.scalar(\"chi2logs\", chi2test)\n",
    "\n",
    "summ = tf.summary.merge_all()"
   ]
  },
  {
   "cell_type": "code",
   "execution_count": 11,
   "metadata": {
    "collapsed": true
   },
   "outputs": [],
   "source": [
    "inputdata=df_train.drop(\"y\",axis=1).as_matrix()"
   ]
  },
  {
   "cell_type": "code",
   "execution_count": 12,
   "metadata": {},
   "outputs": [
    {
     "data": {
      "text/plain": [
       "(numpy.ndarray, (4209, 504))"
      ]
     },
     "execution_count": 12,
     "metadata": {},
     "output_type": "execute_result"
    }
   ],
   "source": [
    "type(inputdata),inputdata.shape"
   ]
  },
  {
   "cell_type": "code",
   "execution_count": 13,
   "metadata": {
    "collapsed": true
   },
   "outputs": [],
   "source": [
    "inputy=df_train['y'].as_matrix()"
   ]
  },
  {
   "cell_type": "code",
   "execution_count": 14,
   "metadata": {
    "collapsed": true
   },
   "outputs": [],
   "source": [
    "inputdata,testdata,inputy,testy=train_test_split(inputdata,inputy,test_size=0.1,random_state=21)"
   ]
  },
  {
   "cell_type": "code",
   "execution_count": 15,
   "metadata": {},
   "outputs": [
    {
     "data": {
      "text/plain": [
       "((3788, 504), (421, 504))"
      ]
     },
     "execution_count": 15,
     "metadata": {},
     "output_type": "execute_result"
    }
   ],
   "source": [
    "inputdata.shape,testdata.shape"
   ]
  },
  {
   "cell_type": "code",
   "execution_count": null,
   "metadata": {
    "collapsed": true
   },
   "outputs": [],
   "source": [
    "LOGDIR=\"./tf/{}/\".format(dt.datetime.now().strftime('%Y%m%d_%H_%M_%S_'))\n",
    "saver = tf.train.Saver()\n",
    "#sess.run(tf.global_variables_initializer())\n",
    "writer = tf.summary.FileWriter(LOGDIR)\n",
    "writer.add_graph(sess.graph)"
   ]
  },
  {
   "cell_type": "code",
   "execution_count": null,
   "metadata": {},
   "outputs": [
    {
     "name": "stderr",
     "output_type": "stream",
     "text": [
      " 80%|████████  | 3210/4000 [02:16<00:30, 25.53it/s]"
     ]
    }
   ],
   "source": [
    "Ntrain=len(inputdata)\n",
    "Ntest=len(testdata)\n",
    "#with tf.Session() as sess:\n",
    "# Step 7: initialize the necessary variables, in this case, w and b\n",
    "sess.run(tf.global_variables_initializer())\n",
    "# Step 8: train the model\n",
    "for j in tqdm(range(4000)): # run 100 epochs\n",
    "    sess.run(optimizer,feed_dict={X:inputdata, Y:inputy.reshape(Ntrain,1),global_step:j}) \n",
    "    if j%5==0:\n",
    "        s = sess.run(summ, feed_dict={X:inputdata, Y:inputy.reshape(Ntrain,1),Xtest:testdata, Ytest:testy.reshape(Ntest,1),global_step:j})\n",
    "        writer.add_summary(s, j) \n",
    "        saver.save(sess, os.path.join(LOGDIR, \"model.ckpt\"), j)\n"
   ]
  },
  {
   "cell_type": "code",
   "execution_count": null,
   "metadata": {},
   "outputs": [],
   "source": [
    "Ytrain,Ytest=sess.run([Y_predicted,Y_predictedtest],feed_dict={X:inputdata, Y:inputy.reshape(Ntrain,1),Xtest:testdata, Ytest:testy.reshape(Ntest,1)})"
   ]
  },
  {
   "cell_type": "code",
   "execution_count": null,
   "metadata": {},
   "outputs": [],
   "source": [
    "len(testdata)"
   ]
  },
  {
   "cell_type": "code",
   "execution_count": null,
   "metadata": {
    "collapsed": true
   },
   "outputs": [],
   "source": [
    "#[loss1,step1,b1]=sess.run([loss,step,b], feed_dict={X:inputdata, Y:inputy.reshape(N,1)})\n",
    "sess.close()"
   ]
  },
  {
   "cell_type": "code",
   "execution_count": null,
   "metadata": {},
   "outputs": [],
   "source": [
    "Ytrainv=[i[0] for i in Ytrain]\n",
    "Ytestv=[i[0] for i in Ytest]"
   ]
  },
  {
   "cell_type": "code",
   "execution_count": null,
   "metadata": {},
   "outputs": [],
   "source": [
    "len(testy)"
   ]
  },
  {
   "cell_type": "code",
   "execution_count": null,
   "metadata": {},
   "outputs": [],
   "source": [
    "r2_score(Ytestv, testy)"
   ]
  },
  {
   "cell_type": "code",
   "execution_count": null,
   "metadata": {},
   "outputs": [],
   "source": [
    "plt.hist(Ytrestv,bins=np.mgrid[-5:5:0.2],color=\"red\",histtype=\"step\",normed=True)\n",
    "plt.hist(Ytrainv,bins=np.mgrid[-5:5:0.2],color='blue',histtype=\"step\",normed=True)\n",
    "plt.hist(df_train[\"y\"].values,bins=np.mgrid[-5:5:0.2],color='green',histtype=\"step\",normed=True)"
   ]
  },
  {
   "cell_type": "code",
   "execution_count": null,
   "metadata": {},
   "outputs": [],
   "source": [
    "plt.plot(Ytrainv,df_train[\"y\"].values,\"go\")"
   ]
  },
  {
   "cell_type": "code",
   "execution_count": null,
   "metadata": {
    "collapsed": true
   },
   "outputs": [],
   "source": [
    "timestamp=dt.datetime.now().strftime('%Y%m%d_%H_%M_%S')\n",
    "output = pd.DataFrame({'id': df_test2['ID'].values, 'y': Ytrestv})\n",
    "output.to_csv('TF{}.csv'.format(timestamp),index=False)"
   ]
  },
  {
   "cell_type": "code",
   "execution_count": null,
   "metadata": {
    "collapsed": true
   },
   "outputs": [],
   "source": [
    "df_test['ID'].values"
   ]
  },
  {
   "cell_type": "code",
   "execution_count": null,
   "metadata": {
    "collapsed": true
   },
   "outputs": [],
   "source": [
    "df_train2,df_test2=LoadandCleanData(True)"
   ]
  },
  {
   "cell_type": "code",
   "execution_count": null,
   "metadata": {
    "collapsed": true
   },
   "outputs": [],
   "source": [
    "df_test2"
   ]
  },
  {
   "cell_type": "code",
   "execution_count": null,
   "metadata": {
    "collapsed": true
   },
   "outputs": [],
   "source": [
    "type( writer)"
   ]
  },
  {
   "cell_type": "code",
   "execution_count": null,
   "metadata": {
    "collapsed": true
   },
   "outputs": [],
   "source": []
  }
 ],
 "metadata": {
  "kernelspec": {
   "display_name": "Python 3",
   "language": "python",
   "name": "python3"
  },
  "language_info": {
   "codemirror_mode": {
    "name": "ipython",
    "version": 3
   },
   "file_extension": ".py",
   "mimetype": "text/x-python",
   "name": "python",
   "nbconvert_exporter": "python",
   "pygments_lexer": "ipython3",
   "version": "3.5.2"
  }
 },
 "nbformat": 4,
 "nbformat_minor": 2
}
