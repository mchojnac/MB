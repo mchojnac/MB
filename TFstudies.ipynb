{
 "cells": [
  {
   "cell_type": "code",
   "execution_count": 1,
   "metadata": {
    "collapsed": true
   },
   "outputs": [],
   "source": [
    "import pandas as pd\n",
    "from collections import Counter\n",
    "import numpy as np\n",
    "import sys\n",
    "import random\n",
    "import functions\n",
    "import matplotlib.pyplot as plt\n",
    "%matplotlib inline\n",
    "import seaborn as sns\n",
    "from functions import *\n",
    "from sklearn.model_selection import train_test_split\n",
    "from pylab import rcParams\n",
    "from sklearn.decomposition import PCA, FastICA\n",
    "from sklearn.metrics import r2_score\n",
    "import tensorflow as tf\n",
    "import os\n",
    "import datetime as dt\n",
    "from tqdm import tnrange, tqdm_notebook, tqdm"
   ]
  },
  {
   "cell_type": "code",
   "execution_count": 2,
   "metadata": {
    "collapsed": true
   },
   "outputs": [],
   "source": [
    "df_train,df_test=LoadandCleanData(True,1,0.0,2)"
   ]
  },
  {
   "cell_type": "code",
   "execution_count": 3,
   "metadata": {},
   "outputs": [],
   "source": [
    "m=df_train['y'].mean()\n",
    "std=df_train['y'].std()\n",
    "df_train['y']=df_train['y'].apply(lambda x: (x-m)/std)\n",
    "#minv=min(df_train['y'].values)\n",
    "#maxv,minv\n",
    "N=len(df_train)"
   ]
  },
  {
   "cell_type": "code",
   "execution_count": 4,
   "metadata": {
    "collapsed": true
   },
   "outputs": [],
   "source": [
    "tf.reset_default_graph()\n",
    "sess = tf.Session()"
   ]
  },
  {
   "cell_type": "code",
   "execution_count": 5,
   "metadata": {},
   "outputs": [],
   "source": [
    "X = tf.placeholder(tf.float32,shape=[N,480], name=\"X\")\n",
    "Y = tf.placeholder(tf.float32,shape=[N,1] ,name=\"Y\")\n",
    "\n",
    "w1 = tf.Variable(tf.truncated_normal([480,140], stddev=0.00001), name=\"weights1\")\n",
    "b1=tf.Variable(tf.constant(0.0,shape=[140]), name=\"bias1\")\n",
    "\n",
    "w2 = tf.Variable(tf.truncated_normal([140,40], stddev=0.00001), name=\"weights2\")\n",
    "b2=tf.Variable(tf.constant(0.0,shape=[40]), name=\"bias2\")\n",
    "\n",
    "w3 = tf.Variable(tf.truncated_normal([40,1], stddev=0.00001), name=\"weights3\")\n",
    "b3=tf.Variable(tf.constant(0.0,shape=[1]), name=\"bias3\")\n",
    "\n",
    "\n",
    "Y1= tf.nn.relu(tf.matmul(X,w1)+b1)\n",
    "Y2= tf.nn.relu(tf.matmul(Y1,w2)+b2)\n",
    "Y_predicted = tf.matmul(Y2,w3)+b3\n",
    "\n",
    "step=tf.square(Y - Y_predicted,name=\"step\")\n",
    "chi2= tf.reduce_sum(step, name=\"loss\")\n",
    "\n",
    "optimizer = tf.train.AdamOptimizer(learning_rate=0.001).minimize(chi2)\n",
    "tf.summary.histogram(\"weights1\", w1)\n",
    "tf.summary.histogram(\"biases1\", b1)\n",
    "tf.summary.histogram(\"weights2\", w2)\n",
    "tf.summary.histogram(\"biases2\", b2)\n",
    "tf.summary.histogram(\"weights3\", w3)\n",
    "tf.summary.histogram(\"biases3\", b3)\n",
    "\n",
    "tf.summary.histogram(\"Y\", Y_predicted)\n",
    "tf.summary.scalar(\"chi2\", chi2)\n",
    "summ = tf.summary.merge_all()"
   ]
  },
  {
   "cell_type": "code",
   "execution_count": 6,
   "metadata": {
    "collapsed": true
   },
   "outputs": [],
   "source": [
    "inputdata=df_train.drop(\"y\",axis=1).as_matrix()"
   ]
  },
  {
   "cell_type": "code",
   "execution_count": 7,
   "metadata": {},
   "outputs": [
    {
     "data": {
      "text/plain": [
       "(numpy.ndarray, (4209, 480))"
      ]
     },
     "execution_count": 7,
     "metadata": {},
     "output_type": "execute_result"
    }
   ],
   "source": [
    "type(inputdata),inputdata.shape"
   ]
  },
  {
   "cell_type": "code",
   "execution_count": 8,
   "metadata": {},
   "outputs": [],
   "source": [
    "inputy=df_train['y'].as_matrix()"
   ]
  },
  {
   "cell_type": "code",
   "execution_count": 9,
   "metadata": {},
   "outputs": [
    {
     "data": {
      "text/plain": [
       "array([ 2.37714138, -0.95740619, -1.92511902, ...,  0.6743769 ,\n",
       "       -1.0402178 ,  0.80293207])"
      ]
     },
     "execution_count": 9,
     "metadata": {},
     "output_type": "execute_result"
    }
   ],
   "source": [
    "inputy"
   ]
  },
  {
   "cell_type": "code",
   "execution_count": 10,
   "metadata": {},
   "outputs": [],
   "source": [
    "LOGDIR=\"./tf/{}/\".format(dt.datetime.now().strftime('%Y%m%d_%H_%M_%S'))\n",
    "saver = tf.train.Saver()\n",
    "#sess.run(tf.global_variables_initializer())\n",
    "writer = tf.summary.FileWriter(LOGDIR)\n",
    "writer.add_graph(sess.graph)"
   ]
  },
  {
   "cell_type": "code",
   "execution_count": 11,
   "metadata": {},
   "outputs": [
    {
     "name": "stderr",
     "output_type": "stream",
     "text": [
      "100%|██████████| 1000/1000 [01:47<00:00,  7.31it/s]\n"
     ]
    }
   ],
   "source": [
    "#with tf.Session() as sess:\n",
    "# Step 7: initialize the necessary variables, in this case, w and b\n",
    "sess.run(tf.global_variables_initializer())\n",
    "# Step 8: train the model\n",
    "for j in tqdm(range(1000)): # run 100 epochs\n",
    "    sess.run(optimizer,feed_dict={X:inputdata, Y:inputy.reshape(N,1)})  \n",
    "    if j%5==0:\n",
    "        s = sess.run(summ, feed_dict={X:inputdata, Y:inputy.reshape(N,1)})\n",
    "        writer.add_summary(s, j)  \n",
    "        saver.save(sess, os.path.join(LOGDIR, \"model.ckpt\"), j)\n"
   ]
  },
  {
   "cell_type": "code",
   "execution_count": 12,
   "metadata": {},
   "outputs": [],
   "source": [
    "testdata=df_test.as_matrix()\n",
    "#testdata[0].reshape(1,480)"
   ]
  },
  {
   "cell_type": "code",
   "execution_count": 13,
   "metadata": {},
   "outputs": [],
   "source": [
    "Ytest=sess.run([Y_predicted],feed_dict={X: testdata})\n",
    "Ytrain=sess.run([Y_predicted],feed_dict={X: inputdata})"
   ]
  },
  {
   "cell_type": "code",
   "execution_count": 14,
   "metadata": {
    "collapsed": true
   },
   "outputs": [],
   "source": [
    "#[loss1,step1,b1]=sess.run([loss,step,b], feed_dict={X:inputdata, Y:inputy.reshape(N,1)})\n",
    "sess.close()"
   ]
  },
  {
   "cell_type": "code",
   "execution_count": 15,
   "metadata": {},
   "outputs": [],
   "source": [
    "Ytrainv=[i[0] for i in Ytrain[0][0:]]\n",
    "Ytrestv=[i[0] for i in Ytest[0][0:]]"
   ]
  },
  {
   "cell_type": "code",
   "execution_count": 16,
   "metadata": {},
   "outputs": [
    {
     "data": {
      "text/plain": [
       "list"
      ]
     },
     "execution_count": 16,
     "metadata": {},
     "output_type": "execute_result"
    }
   ],
   "source": [
    "type(Ytrainv)"
   ]
  },
  {
   "cell_type": "code",
   "execution_count": 17,
   "metadata": {},
   "outputs": [
    {
     "data": {
      "text/plain": [
       "(array([ 0.        ,  0.        ,  0.        ,  0.        ,  0.        ,\n",
       "         0.        ,  0.        ,  0.        ,  0.        ,  0.        ,\n",
       "         0.        ,  0.        ,  0.        ,  0.00237812,  0.05707491,\n",
       "         0.078478  ,  0.03567182,  0.01783591,  0.04280618,  0.24256837,\n",
       "         0.68727705,  0.56718193,  0.34601665,  0.28656361,  0.35077289,\n",
       "         0.24613555,  0.24851367,  0.38049941,  0.43876338,  0.30083234,\n",
       "         0.21403092,  0.13079667,  0.08680143,  0.06420927,  0.03091558,\n",
       "         0.03091558,  0.02497027,  0.01902497,  0.01426873,  0.01189061,\n",
       "         0.01307967,  0.0059453 ,  0.00356718,  0.00356718,  0.0059453 ,\n",
       "         0.00237812,  0.00475624,  0.00237812,  0.00118906]),\n",
       " array([ -5.00000000e+00,  -4.80000000e+00,  -4.60000000e+00,\n",
       "         -4.40000000e+00,  -4.20000000e+00,  -4.00000000e+00,\n",
       "         -3.80000000e+00,  -3.60000000e+00,  -3.40000000e+00,\n",
       "         -3.20000000e+00,  -3.00000000e+00,  -2.80000000e+00,\n",
       "         -2.60000000e+00,  -2.40000000e+00,  -2.20000000e+00,\n",
       "         -2.00000000e+00,  -1.80000000e+00,  -1.60000000e+00,\n",
       "         -1.40000000e+00,  -1.20000000e+00,  -1.00000000e+00,\n",
       "         -8.00000000e-01,  -6.00000000e-01,  -4.00000000e-01,\n",
       "         -2.00000000e-01,   4.44089210e-15,   2.00000000e-01,\n",
       "          4.00000000e-01,   6.00000000e-01,   8.00000000e-01,\n",
       "          1.00000000e+00,   1.20000000e+00,   1.40000000e+00,\n",
       "          1.60000000e+00,   1.80000000e+00,   2.00000000e+00,\n",
       "          2.20000000e+00,   2.40000000e+00,   2.60000000e+00,\n",
       "          2.80000000e+00,   3.00000000e+00,   3.20000000e+00,\n",
       "          3.40000000e+00,   3.60000000e+00,   3.80000000e+00,\n",
       "          4.00000000e+00,   4.20000000e+00,   4.40000000e+00,\n",
       "          4.60000000e+00,   4.80000000e+00]),\n",
       " <a list of 1 Patch objects>)"
      ]
     },
     "execution_count": 17,
     "metadata": {},
     "output_type": "execute_result"
    },
    {
     "data": {
      "image/png": "[encoded data removed]",
      "text/plain": [
       "<matplotlib.figure.Figure at 0x7f5c8f1684e0>"
      ]
     },
     "metadata": {},
     "output_type": "display_data"
    }
   ],
   "source": [
    "plt.hist(Ytrestv,bins=np.mgrid[-5:5:0.2],color=\"red\",histtype=\"step\",normed=True)\n",
    "plt.hist(Ytrainv,bins=np.mgrid[-5:5:0.2],color='blue',histtype=\"step\",normed=True)\n",
    "plt.hist(df_train[\"y\"].values,bins=np.mgrid[-5:5:0.2],color='green',histtype=\"step\",normed=True)"
   ]
  },
  {
   "cell_type": "code",
   "execution_count": 18,
   "metadata": {},
   "outputs": [
    {
     "data": {
      "text/plain": [
       "[<matplotlib.lines.Line2D at 0x7f5c8f36d5c0>]"
      ]
     },
     "execution_count": 18,
     "metadata": {},
     "output_type": "execute_result"
    },
    {
     "data": {
      "image/png": "[encoded data removed]",
      "text/plain": [
       "<matplotlib.figure.Figure at 0x7f5c8f172cc0>"
      ]
     },
     "metadata": {},
     "output_type": "display_data"
    }
   ],
   "source": [
    "plt.plot(Ytrainv,df_train[\"y\"].values,\"go\")"
   ]
  },
  {
   "cell_type": "code",
   "execution_count": null,
   "metadata": {
    "collapsed": true
   },
   "outputs": [],
   "source": []
  }
 ],
 "metadata": {
  "kernelspec": {
   "display_name": "Python 3",
   "language": "python",
   "name": "python3"
  },
  "language_info": {
   "codemirror_mode": {
    "name": "ipython",
    "version": 3
   },
   "file_extension": ".py",
   "mimetype": "text/x-python",
   "name": "python",
   "nbconvert_exporter": "python",
   "pygments_lexer": "ipython3",
   "version": "3.5.2"
  }
 },
 "nbformat": 4,
 "nbformat_minor": 2
}
